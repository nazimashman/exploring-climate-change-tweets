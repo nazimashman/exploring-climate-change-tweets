{
 "cells": [
  {
   "cell_type": "code",
   "execution_count": 1,
   "metadata": {},
   "outputs": [],
   "source": [
    "import tweepy\n",
    "from wordcloud import WordCloud\n",
    "import matplotlib.pyplot as plt\n",
    "import cnfg\n",
    "from tqdm import tqdm\n",
    "from pymongo import MongoClient\n",
    "import json\n",
    "import pandas as pd\n",
    "import numpy as np\n",
    "from textblob import TextBlob\n",
    "\n",
    "import sys\n",
    "import os\n",
    "\n",
    "%matplotlib inline"
   ]
  },
  {
   "cell_type": "code",
   "execution_count": 2,
   "metadata": {},
   "outputs": [],
   "source": [
    "config = cnfg.load(\".twitter_config.txt\")\n",
    "\n",
    "auth = tweepy.OAuthHandler(config[\"consumer_key\"],\n",
    "                           config[\"consumer_secret\"])\n",
    "auth.set_access_token(config[\"access_token\"],\n",
    "                      config[\"access_token_secret\"])\n",
    "\n",
    "# api=tweepy.API(auth,wait_on_rate_limit=True)\n",
    "\n",
    "api = tweepy.API(auth)"
   ]
  },
  {
   "cell_type": "code",
   "execution_count": 3,
   "metadata": {},
   "outputs": [
    {
     "data": {
      "text/plain": [
       "{'/search/tweets': {'limit': 180, 'remaining': 180, 'reset': 1542332264}}"
      ]
     },
     "execution_count": 3,
     "metadata": {},
     "output_type": "execute_result"
    }
   ],
   "source": [
    "#You can check how many queries you have left using rate_limit_status() method\n",
    "api.rate_limit_status()['resources']['search']"
   ]
  },
  {
   "cell_type": "code",
   "execution_count": 4,
   "metadata": {},
   "outputs": [],
   "source": [
    "#Switching to application authentication\n",
    "auth = tweepy.AppAuthHandler(config[\"consumer_key\"], config[\"consumer_secret\"])\n",
    "\n",
    "#Setting up new api wrapper, using authentication only\n",
    "api = tweepy.API(auth, wait_on_rate_limit=True,wait_on_rate_limit_notify=True)\n",
    " \n",
    "#Error handling\n",
    "if (not api):\n",
    "    print (\"Problem Connecting to API\")\n",
    " "
   ]
  },
  {
   "cell_type": "code",
   "execution_count": 5,
   "metadata": {},
   "outputs": [
    {
     "data": {
      "text/plain": [
       "{'/search/tweets': {'limit': 450, 'remaining': 450, 'reset': 1542332266}}"
      ]
     },
     "execution_count": 5,
     "metadata": {},
     "output_type": "execute_result"
    }
   ],
   "source": [
    "#You can check how many queries you have left using rate_limit_status() method\n",
    "api.rate_limit_status()['resources']['search']"
   ]
  },
  {
   "cell_type": "markdown",
   "metadata": {},
   "source": [
    "# Set keywords for Twitter search"
   ]
  },
  {
   "cell_type": "code",
   "execution_count": 6,
   "metadata": {},
   "outputs": [],
   "source": [
    "#This is what we are searching for\n",
    "#We can restrict the location of tweets using place:id \n",
    "#We can search for multiple phrases using OR\n",
    "searchQuery = '#globalwarming OR #climatechange OR #climate OR' \\\n",
    "              '\"global warming\" OR \"climate change\" OR \"emmisions\" OR \"sea level\" OR \"sea-level\" OR' \\\n",
    "              '\"fossil fuels\" OR \"greenhouse gas\" '\\\n",
    "              '     -filter:retweets AND -filter:replies'"
   ]
  },
  {
   "cell_type": "code",
   "execution_count": 7,
   "metadata": {},
   "outputs": [],
   "source": [
    "#Maximum number of tweets we want to collect \n",
    "maxTweets = 30000\n",
    "\n",
    "#The twitter Search API allows up to 100 tweets per query\n",
    "tweetsPerQry = 100"
   ]
  },
  {
   "cell_type": "markdown",
   "metadata": {},
   "source": [
    "# Get tweets in the last week"
   ]
  },
  {
   "cell_type": "code",
   "execution_count": 8,
   "metadata": {},
   "outputs": [
    {
     "name": "stderr",
     "output_type": "stream",
     "text": [
      "6718it [00:52, 116.74it/s]Rate limit reached. Sleeping for: 849\n",
      "13445it [16:03, 100.94it/s]Rate limit reached. Sleeping for: 847\n",
      "20123it [31:09, 109.45it/s]Rate limit reached. Sleeping for: 848\n",
      "26824it [46:21, 116.13it/s]Rate limit reached. Sleeping for: 843\n",
      "30000it [1:00:57,  8.20it/s] "
     ]
    },
    {
     "name": "stdout",
     "output_type": "stream",
     "text": [
      "Downloaded 30000 tweets\n"
     ]
    },
    {
     "name": "stderr",
     "output_type": "stream",
     "text": [
      "\n"
     ]
    }
   ],
   "source": [
    "tweetCount = 0\n",
    "tweet_dict_list = []\n",
    "\n",
    "\n",
    "#Tell the Cursor method that we want to use the Search API (api.search)\n",
    "#Also tell Cursor our query, and the maximum number of tweets to return\n",
    "for t in tqdm(tweepy.Cursor(api.search,q=searchQuery).items(maxTweets)) : \n",
    "    d = {}\n",
    "    d['created_at'] = t.created_at\n",
    "    d['favorite_count'] = t.favorite_count\n",
    "    d['retweet_count'] = t.retweet_count\n",
    "    d['text'] = t.text\n",
    "    d['screen_name'] = t.user.screen_name\n",
    "    \n",
    "    tweet_dict_list.append(d)\n",
    "    \n",
    "    tweetCount += 1\n",
    "\n",
    "#Display how many tweets we have collected\n",
    "print(\"Downloaded {0} tweets\".format(tweetCount))\n"
   ]
  },
  {
   "cell_type": "markdown",
   "metadata": {},
   "source": [
    "# Add document to MongoDB\n"
   ]
  },
  {
   "cell_type": "code",
   "execution_count": 9,
   "metadata": {},
   "outputs": [
    {
     "data": {
      "text/plain": [
       "['admin', 'climate_db', 'climate_db2', 'config', 'local', 'wildlife_db']"
      ]
     },
     "execution_count": 9,
     "metadata": {},
     "output_type": "execute_result"
    }
   ],
   "source": [
    "# Connect to monogodb server.  Make sure it's running first!\n",
    "client = MongoClient('localhost', 27017)\n",
    "\n",
    "client.list_database_names()"
   ]
  },
  {
   "cell_type": "code",
   "execution_count": 11,
   "metadata": {},
   "outputs": [],
   "source": [
    "# Connect to the database for the first time\n",
    "climate_db3 = client['climate_db3']\n",
    "\n",
    "# Create a collection\n",
    "climate_collection3 = climate_db3.tweets"
   ]
  },
  {
   "cell_type": "code",
   "execution_count": 12,
   "metadata": {},
   "outputs": [
    {
     "data": {
      "text/plain": [
       "<pymongo.results.InsertManyResult at 0x1a213691c8>"
      ]
     },
     "execution_count": 12,
     "metadata": {},
     "output_type": "execute_result"
    }
   ],
   "source": [
    "climate_collection3.insert_many(tweet_dict_list)"
   ]
  },
  {
   "cell_type": "markdown",
   "metadata": {},
   "source": [
    "# Get updated document from database and create a dataframe"
   ]
  },
  {
   "cell_type": "code",
   "execution_count": 13,
   "metadata": {},
   "outputs": [],
   "source": [
    "res = climate_db3['tweets'].find()\n"
   ]
  },
  {
   "cell_type": "code",
   "execution_count": 14,
   "metadata": {},
   "outputs": [],
   "source": [
    "res_list = [item for item in res]\n"
   ]
  },
  {
   "cell_type": "code",
   "execution_count": 15,
   "metadata": {},
   "outputs": [
    {
     "data": {
      "text/html": [
       "<div>\n",
       "<style scoped>\n",
       "    .dataframe tbody tr th:only-of-type {\n",
       "        vertical-align: middle;\n",
       "    }\n",
       "\n",
       "    .dataframe tbody tr th {\n",
       "        vertical-align: top;\n",
       "    }\n",
       "\n",
       "    .dataframe thead th {\n",
       "        text-align: right;\n",
       "    }\n",
       "</style>\n",
       "<table border=\"1\" class=\"dataframe\">\n",
       "  <thead>\n",
       "    <tr style=\"text-align: right;\">\n",
       "      <th></th>\n",
       "      <th>_id</th>\n",
       "      <th>created_at</th>\n",
       "      <th>favorite_count</th>\n",
       "      <th>retweet_count</th>\n",
       "      <th>screen_name</th>\n",
       "      <th>text</th>\n",
       "    </tr>\n",
       "  </thead>\n",
       "  <tbody>\n",
       "    <tr>\n",
       "      <th>0</th>\n",
       "      <td>5bee2ad7b2857344b2eca5c5</td>\n",
       "      <td>2018-11-16 01:22:48</td>\n",
       "      <td>0</td>\n",
       "      <td>0</td>\n",
       "      <td>DPonizil</td>\n",
       "      <td>Incredibly proud , heartened and relived to ha...</td>\n",
       "    </tr>\n",
       "    <tr>\n",
       "      <th>1</th>\n",
       "      <td>5bee2ad7b2857344b2eca5c6</td>\n",
       "      <td>2018-11-16 01:22:47</td>\n",
       "      <td>0</td>\n",
       "      <td>0</td>\n",
       "      <td>AtNickJackson</td>\n",
       "      <td>Fun drinking game for this weekend: Take one s...</td>\n",
       "    </tr>\n",
       "    <tr>\n",
       "      <th>2</th>\n",
       "      <td>5bee2ad7b2857344b2eca5c7</td>\n",
       "      <td>2018-11-16 01:22:43</td>\n",
       "      <td>0</td>\n",
       "      <td>0</td>\n",
       "      <td>PoliticPR</td>\n",
       "      <td>Climate Change, Steel, Migration Bedevil G20 C...</td>\n",
       "    </tr>\n",
       "    <tr>\n",
       "      <th>3</th>\n",
       "      <td>5bee2ad7b2857344b2eca5c8</td>\n",
       "      <td>2018-11-16 01:22:36</td>\n",
       "      <td>0</td>\n",
       "      <td>0</td>\n",
       "      <td>Carol_Daniels</td>\n",
       "      <td>Your Children’s Yellowstone Will Be Radically ...</td>\n",
       "    </tr>\n",
       "    <tr>\n",
       "      <th>4</th>\n",
       "      <td>5bee2ad7b2857344b2eca5c9</td>\n",
       "      <td>2018-11-16 01:22:32</td>\n",
       "      <td>0</td>\n",
       "      <td>0</td>\n",
       "      <td>Boxer751</td>\n",
       "      <td>https://t.co/PilHN2Grbx \\n\\nCongratulations De...</td>\n",
       "    </tr>\n",
       "  </tbody>\n",
       "</table>\n",
       "</div>"
      ],
      "text/plain": [
       "                        _id          created_at  favorite_count  \\\n",
       "0  5bee2ad7b2857344b2eca5c5 2018-11-16 01:22:48               0   \n",
       "1  5bee2ad7b2857344b2eca5c6 2018-11-16 01:22:47               0   \n",
       "2  5bee2ad7b2857344b2eca5c7 2018-11-16 01:22:43               0   \n",
       "3  5bee2ad7b2857344b2eca5c8 2018-11-16 01:22:36               0   \n",
       "4  5bee2ad7b2857344b2eca5c9 2018-11-16 01:22:32               0   \n",
       "\n",
       "   retweet_count    screen_name  \\\n",
       "0              0       DPonizil   \n",
       "1              0  AtNickJackson   \n",
       "2              0      PoliticPR   \n",
       "3              0  Carol_Daniels   \n",
       "4              0       Boxer751   \n",
       "\n",
       "                                                text  \n",
       "0  Incredibly proud , heartened and relived to ha...  \n",
       "1  Fun drinking game for this weekend: Take one s...  \n",
       "2  Climate Change, Steel, Migration Bedevil G20 C...  \n",
       "3  Your Children’s Yellowstone Will Be Radically ...  \n",
       "4  https://t.co/PilHN2Grbx \\n\\nCongratulations De...  "
      ]
     },
     "execution_count": 15,
     "metadata": {},
     "output_type": "execute_result"
    }
   ],
   "source": [
    "df = pd.DataFrame(res_list)\n",
    "\n",
    "df.head()"
   ]
  },
  {
   "cell_type": "code",
   "execution_count": 89,
   "metadata": {},
   "outputs": [],
   "source": [
    "auth = tweepy.OAuthHandler(config[\"consumer_key\"],\n",
    "                           config[\"consumer_secret\"])\n",
    "auth.set_access_token(config[\"access_token\"],\n",
    "                      config[\"access_token_secret\"])\n",
    "\n",
    "# api=tweepy.API(auth,wait_on_rate_limit=True)\n",
    "\n",
    "api = tweepy.API(auth)"
   ]
  },
  {
   "cell_type": "code",
   "execution_count": 90,
   "metadata": {},
   "outputs": [
    {
     "data": {
      "text/plain": [
       "{'/search/tweets': {'limit': 180, 'remaining': 180, 'reset': 1541976133}}"
      ]
     },
     "execution_count": 90,
     "metadata": {},
     "output_type": "execute_result"
    }
   ],
   "source": [
    "#You can check how many queries you have left using rate_limit_status() method\n",
    "api.rate_limit_status()['resources']['search']"
   ]
  },
  {
   "cell_type": "markdown",
   "metadata": {},
   "source": [
    "# Set up a listener"
   ]
  },
  {
   "cell_type": "code",
   "execution_count": 100,
   "metadata": {},
   "outputs": [],
   "source": [
    "from tweepy import Stream\n",
    "from tweepy.streaming import StreamListener\n"
   ]
  },
  {
   "cell_type": "code",
   "execution_count": 133,
   "metadata": {},
   "outputs": [],
   "source": [
    "class listener(StreamListener):\n",
    "\n",
    "    def on_data(self, data):\n",
    "        data = json.loads(data)\n",
    "        \n",
    "        # Pull the fields we want, and throw it into our mongodb database\n",
    "        if data['lang'] == 'en' and (not data['retweeted']) and ('RT @' not in data['text']):\n",
    "            tweet_document = {}\n",
    "\n",
    "            tweet_document['created_at'] = data['created_at']\n",
    "            tweet_document['favorite_count'] = data['favorite_count']\n",
    "            tweet_document['retweet_count'] = data['retweet_count']\n",
    "\n",
    "            #Get full text if it is an extended tweet\n",
    "            if 'extended_tweet' in data.keys():\n",
    "                tweet_document['text'] = data['extended_tweet']['full_text']\n",
    "            else:\n",
    "                tweet_document['text'] = data['text']\n",
    "\n",
    "            tweet_document['screen_name'] = data['user']['screen_name']\n",
    "\n",
    "\n",
    "           # print(tweet_document)\n",
    "           # print('\\n')\n",
    "            climate_collection.insert_one(tweet_document)\n",
    "        \n",
    "        return True\n",
    "\n",
    "    def on_error(self, status):\n",
    "        print(status)\n"
   ]
  },
  {
   "cell_type": "code",
   "execution_count": 134,
   "metadata": {},
   "outputs": [
    {
     "name": "stdout",
     "output_type": "stream",
     "text": [
      "401\n",
      "401\n",
      "401\n",
      "401\n",
      "401\n",
      "401\n",
      "401\n",
      "401\n",
      "401\n",
      "401\n",
      "401\n",
      "401\n",
      "401\n",
      "401\n",
      "401\n",
      "401\n"
     ]
    },
    {
     "ename": "KeyboardInterrupt",
     "evalue": "",
     "output_type": "error",
     "traceback": [
      "\u001b[0;31m---------------------------------------------------------------------------\u001b[0m",
      "\u001b[0;31mKeyboardInterrupt\u001b[0m                         Traceback (most recent call last)",
      "\u001b[0;32m<ipython-input-134-e1f7aff553ac>\u001b[0m in \u001b[0;36m<module>\u001b[0;34m()\u001b[0m\n\u001b[1;32m      1\u001b[0m \u001b[0mtwitterStream\u001b[0m \u001b[0;34m=\u001b[0m \u001b[0mStream\u001b[0m\u001b[0;34m(\u001b[0m\u001b[0mauth\u001b[0m\u001b[0;34m,\u001b[0m \u001b[0mlistener\u001b[0m\u001b[0;34m(\u001b[0m\u001b[0;34m)\u001b[0m\u001b[0;34m)\u001b[0m\u001b[0;34m\u001b[0m\u001b[0m\n\u001b[0;32m----> 2\u001b[0;31m \u001b[0mdata\u001b[0m \u001b[0;34m=\u001b[0m \u001b[0mtwitterStream\u001b[0m\u001b[0;34m.\u001b[0m\u001b[0mfilter\u001b[0m\u001b[0;34m(\u001b[0m\u001b[0mtrack\u001b[0m\u001b[0;34m=\u001b[0m\u001b[0;34m[\u001b[0m\u001b[0;34m\"global warming\"\u001b[0m\u001b[0;34m,\u001b[0m \u001b[0;34m\"climate\"\u001b[0m\u001b[0;34m,\u001b[0m \u001b[0;34m\"climate change\"\u001b[0m\u001b[0;34m,\u001b[0m \u001b[0;34m\"environment\"\u001b[0m\u001b[0;34m]\u001b[0m\u001b[0;34m)\u001b[0m\u001b[0;34m\u001b[0m\u001b[0m\n\u001b[0m",
      "\u001b[0;32m~/anaconda3/lib/python3.6/site-packages/tweepy/streaming.py\u001b[0m in \u001b[0;36mfilter\u001b[0;34m(self, follow, track, async, locations, stall_warnings, languages, encoding, filter_level)\u001b[0m\n\u001b[1;32m    448\u001b[0m         \u001b[0mself\u001b[0m\u001b[0;34m.\u001b[0m\u001b[0msession\u001b[0m\u001b[0;34m.\u001b[0m\u001b[0mparams\u001b[0m \u001b[0;34m=\u001b[0m \u001b[0;34m{\u001b[0m\u001b[0;34m'delimited'\u001b[0m\u001b[0;34m:\u001b[0m \u001b[0;34m'length'\u001b[0m\u001b[0;34m}\u001b[0m\u001b[0;34m\u001b[0m\u001b[0m\n\u001b[1;32m    449\u001b[0m         \u001b[0mself\u001b[0m\u001b[0;34m.\u001b[0m\u001b[0mhost\u001b[0m \u001b[0;34m=\u001b[0m \u001b[0;34m'stream.twitter.com'\u001b[0m\u001b[0;34m\u001b[0m\u001b[0m\n\u001b[0;32m--> 450\u001b[0;31m         \u001b[0mself\u001b[0m\u001b[0;34m.\u001b[0m\u001b[0m_start\u001b[0m\u001b[0;34m(\u001b[0m\u001b[0masync\u001b[0m\u001b[0;34m)\u001b[0m\u001b[0;34m\u001b[0m\u001b[0m\n\u001b[0m\u001b[1;32m    451\u001b[0m \u001b[0;34m\u001b[0m\u001b[0m\n\u001b[1;32m    452\u001b[0m     def sitestream(self, follow, stall_warnings=False,\n",
      "\u001b[0;32m~/anaconda3/lib/python3.6/site-packages/tweepy/streaming.py\u001b[0m in \u001b[0;36m_start\u001b[0;34m(self, async)\u001b[0m\n\u001b[1;32m    362\u001b[0m             \u001b[0mself\u001b[0m\u001b[0;34m.\u001b[0m\u001b[0m_thread\u001b[0m\u001b[0;34m.\u001b[0m\u001b[0mstart\u001b[0m\u001b[0;34m(\u001b[0m\u001b[0;34m)\u001b[0m\u001b[0;34m\u001b[0m\u001b[0m\n\u001b[1;32m    363\u001b[0m         \u001b[0;32melse\u001b[0m\u001b[0;34m:\u001b[0m\u001b[0;34m\u001b[0m\u001b[0m\n\u001b[0;32m--> 364\u001b[0;31m             \u001b[0mself\u001b[0m\u001b[0;34m.\u001b[0m\u001b[0m_run\u001b[0m\u001b[0;34m(\u001b[0m\u001b[0;34m)\u001b[0m\u001b[0;34m\u001b[0m\u001b[0m\n\u001b[0m\u001b[1;32m    365\u001b[0m \u001b[0;34m\u001b[0m\u001b[0m\n\u001b[1;32m    366\u001b[0m     \u001b[0;32mdef\u001b[0m \u001b[0mon_closed\u001b[0m\u001b[0;34m(\u001b[0m\u001b[0mself\u001b[0m\u001b[0;34m,\u001b[0m \u001b[0mresp\u001b[0m\u001b[0;34m)\u001b[0m\u001b[0;34m:\u001b[0m\u001b[0;34m\u001b[0m\u001b[0m\n",
      "\u001b[0;32m~/anaconda3/lib/python3.6/site-packages/tweepy/streaming.py\u001b[0m in \u001b[0;36m_run\u001b[0;34m(self)\u001b[0m\n\u001b[1;32m    256\u001b[0m                         self.retry_time = max(self.retry_420_start,\n\u001b[1;32m    257\u001b[0m                                               self.retry_time)\n\u001b[0;32m--> 258\u001b[0;31m                     \u001b[0msleep\u001b[0m\u001b[0;34m(\u001b[0m\u001b[0mself\u001b[0m\u001b[0;34m.\u001b[0m\u001b[0mretry_time\u001b[0m\u001b[0;34m)\u001b[0m\u001b[0;34m\u001b[0m\u001b[0m\n\u001b[0m\u001b[1;32m    259\u001b[0m                     self.retry_time = min(self.retry_time * 2,\n\u001b[1;32m    260\u001b[0m                                           self.retry_time_cap)\n",
      "\u001b[0;31mKeyboardInterrupt\u001b[0m: "
     ]
    }
   ],
   "source": [
    "twitterStream = Stream(auth, listener())\n",
    "data = twitterStream.filter(track=[\"global warming\", \"climate\", \"climate change\", \"environment\"])"
   ]
  },
  {
   "cell_type": "code",
   "execution_count": null,
   "metadata": {},
   "outputs": [],
   "source": []
  }
 ],
 "metadata": {
  "kernelspec": {
   "display_name": "Python 3",
   "language": "python",
   "name": "python3"
  },
  "language_info": {
   "codemirror_mode": {
    "name": "ipython",
    "version": 3
   },
   "file_extension": ".py",
   "mimetype": "text/x-python",
   "name": "python",
   "nbconvert_exporter": "python",
   "pygments_lexer": "ipython3",
   "version": "3.6.6"
  }
 },
 "nbformat": 4,
 "nbformat_minor": 2
}
